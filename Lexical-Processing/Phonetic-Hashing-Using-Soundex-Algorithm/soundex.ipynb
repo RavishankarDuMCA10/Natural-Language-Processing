{
  "cells": [
    {
      "cell_type": "markdown",
      "metadata": {
        "id": "pyAGLVUIG-Kb"
      },
      "source": [
        "## Soundex"
      ]
    },
    {
      "cell_type": "markdown",
      "metadata": {
        "id": "xXlKDkkAG-Kd"
      },
      "source": [
        "Let's create a function which calculates the soundex of any given string"
      ]
    },
    {
      "cell_type": "code",
      "execution_count": 1,
      "metadata": {
        "id": "NkbCLPj-G-Ke"
      },
      "outputs": [],
      "source": [
        "def get_soundex(token):\n",
        "    \"\"\"Get the soundex code for the string\"\"\"\n",
        "    token = token.upper()\n",
        "\n",
        "    soundex = \"\"\n",
        "\n",
        "    # first letter of input is always the first letter of soundex\n",
        "    soundex += token[0]\n",
        "\n",
        "    # create a dictionary which maps letters to respective soundex codes. Vowels and 'H', 'W' and 'Y' will be represented by '.'\n",
        "    dictionary = {\"BFPV\": \"1\", \"CGJKQSXZ\":\"2\", \"DT\":\"3\", \"L\":\"4\", \"MN\":\"5\", \"R\":\"6\", \"AEIOUHWY\":\".\"}\n",
        "\n",
        "    for char in token[1:]:\n",
        "        for key in dictionary.keys():\n",
        "            if char in key:\n",
        "                code = dictionary[key]\n",
        "                if code != '.':\n",
        "                    if code != soundex[-1]:\n",
        "                        soundex += code\n",
        "\n",
        "\n",
        "    # trim or pad to make soundex a 4-character code\n",
        "    soundex = soundex[:4].ljust(4, \"0\")\n",
        "\n",
        "    return soundex"
      ]
    },
    {
      "cell_type": "markdown",
      "metadata": {
        "id": "P5MhK2vkG-Kf"
      },
      "source": [
        "Let's see what's the soudex of 'Bombay' and 'Bambai'"
      ]
    },
    {
      "cell_type": "code",
      "execution_count": 2,
      "metadata": {
        "colab": {
          "base_uri": "https://localhost:8080/"
        },
        "id": "qJUz6IWIG-Kf",
        "outputId": "fda76c71-6274-46f5-c113-1d3643055481"
      },
      "outputs": [
        {
          "output_type": "stream",
          "name": "stdout",
          "text": [
            "S300\n",
            "A261\n"
          ]
        }
      ],
      "source": [
        "print(get_soundex(\"STOUT\"))\n",
        "print(get_soundex(\"Ashcraft\"))"
      ]
    },
    {
      "cell_type": "code",
      "execution_count": 3,
      "metadata": {
        "colab": {
          "base_uri": "https://localhost:8080/"
        },
        "id": "dM3TxUE6G-Kg",
        "outputId": "7c35c134-efae-4ad5-c3c3-27456b8e759d"
      },
      "outputs": [
        {
          "output_type": "stream",
          "name": "stdout",
          "text": [
            "S300\n",
            "A261\n"
          ]
        }
      ],
      "source": [
        "print(get_soundex(\"STOUT\"))\n",
        "print(get_soundex(\"Ashcraft\"))"
      ]
    },
    {
      "cell_type": "markdown",
      "metadata": {
        "id": "y-S5f42WG-Kg"
      },
      "source": [
        "Let's see soundex of 'Aggrawal', 'Agrawal', 'Aggarwal' and 'Agarwal'"
      ]
    },
    {
      "cell_type": "code",
      "execution_count": 4,
      "metadata": {
        "colab": {
          "base_uri": "https://localhost:8080/"
        },
        "id": "9Hw7acSGG-Kg",
        "outputId": "1dd8657f-1e0f-4eb5-910a-9cacd32f56bb"
      },
      "outputs": [
        {
          "output_type": "stream",
          "name": "stdout",
          "text": [
            "A264\n",
            "A264\n",
            "A264\n",
            "A264\n"
          ]
        }
      ],
      "source": [
        "print(get_soundex(\"Aggrawal\"))\n",
        "print(get_soundex(\"Agrawal\"))\n",
        "print(get_soundex(\"Aggarwal\"))\n",
        "print(get_soundex(\"Agarwal\"))"
      ]
    },
    {
      "cell_type": "code",
      "source": [],
      "metadata": {
        "id": "HanWjLgfHBNR"
      },
      "execution_count": null,
      "outputs": []
    }
  ],
  "metadata": {
    "kernelspec": {
      "display_name": "Python 3",
      "language": "python",
      "name": "python3"
    },
    "language_info": {
      "codemirror_mode": {
        "name": "ipython",
        "version": 3
      },
      "file_extension": ".py",
      "mimetype": "text/x-python",
      "name": "python",
      "nbconvert_exporter": "python",
      "pygments_lexer": "ipython3",
      "version": "3.7.3"
    },
    "colab": {
      "provenance": []
    }
  },
  "nbformat": 4,
  "nbformat_minor": 0
}