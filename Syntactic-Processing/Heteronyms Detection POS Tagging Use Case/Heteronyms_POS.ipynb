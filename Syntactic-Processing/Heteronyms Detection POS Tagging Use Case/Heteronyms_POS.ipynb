{
  "cells": [
    {
      "cell_type": "markdown",
      "id": "ef9580da",
      "metadata": {
        "id": "ef9580da"
      },
      "source": [
        "**Heteronyms** are the words that have same spelling but mean different things when pronounced differently.\n",
        "\n",
        "- Recall the word lead from the lectures. It can refer to the metal lead or the act of leadership. The two pronounciations have different meanings.\n",
        "\n",
        "- For machine translation systems or text to speech systems, the ability to identify the correct sense of the word is crucial.\n",
        "\n",
        "Let us have a look at this example:\n",
        "\n",
        "https://translate.google.com/?sl=en&tl=hi&text=She%20wished%20she%20could%20desert%20him%20in%20the%20desert.%0A&op=translate\n",
        "\n",
        "Example taken from: http://www-personal.umich.edu/~cellis/heteronym.html"
      ]
    },
    {
      "cell_type": "code",
      "execution_count": 2,
      "id": "fbdf203d",
      "metadata": {
        "id": "fbdf203d"
      },
      "outputs": [],
      "source": [
        "# Import SpaCy library\n",
        "import spacy"
      ]
    },
    {
      "cell_type": "code",
      "execution_count": 3,
      "id": "bfcaeedf",
      "metadata": {
        "id": "bfcaeedf"
      },
      "outputs": [],
      "source": [
        "# Load pre-trained SpaCy model for performing basic\n",
        "# NLP tasks such as POS tagging, parsing, etc.\n",
        "model = spacy.load(\"en_core_web_sm\")"
      ]
    },
    {
      "cell_type": "code",
      "source": [
        "#Use the model to process the input sentence\n",
        "tokens = model(\"She wished she could desert him in the desert.\")"
      ],
      "metadata": {
        "id": "mlFONuarlrBL"
      },
      "id": "mlFONuarlrBL",
      "execution_count": 4,
      "outputs": []
    },
    {
      "cell_type": "code",
      "source": [
        "# Print the tokens and their respective PoS tags.\n",
        "for token in tokens:\n",
        "    print(token.text, \"--\", token.pos_, \"--\", token.tag_)"
      ],
      "metadata": {
        "colab": {
          "base_uri": "https://localhost:8080/"
        },
        "id": "-C495W1nlxVp",
        "outputId": "97448bff-ec4c-4e9b-ae5b-c4166a7d4b82"
      },
      "id": "-C495W1nlxVp",
      "execution_count": 4,
      "outputs": [
        {
          "output_type": "stream",
          "name": "stdout",
          "text": [
            "She -- PRON -- PRP\n",
            "wished -- VERB -- VBD\n",
            "she -- PRON -- PRP\n",
            "could -- AUX -- MD\n",
            "desert -- VERB -- VB\n",
            "him -- PRON -- PRP\n",
            "in -- ADP -- IN\n",
            "the -- DET -- DT\n",
            "desert -- NOUN -- NN\n",
            ". -- PUNCT -- .\n"
          ]
        }
      ]
    },
    {
      "cell_type": "markdown",
      "source": [
        "Note here that in the above example, the two instances of desert have different PoS tags and hence, the text to speech system can use this information to generate the correct pronounciation.\n",
        "\n",
        "The above task is a specific example of the larger NLP problem called Word Sense Disambiguation (WSD). For words that have more than one meaning, WSD is the problem of identifying the correct meaning of the word based on the context in which the word is used.\n",
        "\n",
        "Note that this technique will not work when the different meanings have the same PoS tags.\n",
        "\n",
        "https://translate.google.com/?sl=en&tl=hi&text=The%20bass%20swam%20around%20the%20bass%20drum%20on%20the%20ocean%20floor.&op=translate"
      ],
      "metadata": {
        "id": "bY27HMTxl3yj"
      },
      "id": "bY27HMTxl3yj"
    },
    {
      "cell_type": "code",
      "source": [
        "# Let's take a new example.\n",
        "tokens = model(\"The bass swam around the bass drum on the ocean floor\")\n",
        "for token in tokens:\n",
        "    print(token.text, \"--\", token.pos_, \"--\", token.tag_)"
      ],
      "metadata": {
        "colab": {
          "base_uri": "https://localhost:8080/"
        },
        "id": "GOJXvPcblzVX",
        "outputId": "fd84688c-cde2-4bd7-b4d3-4e6aebe01fcf"
      },
      "id": "GOJXvPcblzVX",
      "execution_count": 5,
      "outputs": [
        {
          "output_type": "stream",
          "name": "stdout",
          "text": [
            "The -- DET -- DT\n",
            "bass -- NOUN -- NN\n",
            "swam -- NOUN -- NN\n",
            "around -- ADP -- IN\n",
            "the -- DET -- DT\n",
            "bass -- NOUN -- NN\n",
            "drum -- NOUN -- NN\n",
            "on -- ADP -- IN\n",
            "the -- DET -- DT\n",
            "ocean -- NOUN -- NN\n",
            "floor -- NOUN -- NN\n"
          ]
        }
      ]
    },
    {
      "cell_type": "code",
      "source": [
        "tokens = model(\"Apple is looking at buying UK-based start-up for $1 billion\")\n",
        "for token in tokens:\n",
        "    print(token.text, \"--\", token.pos_, \"--\", token.tag_)"
      ],
      "metadata": {
        "colab": {
          "base_uri": "https://localhost:8080/"
        },
        "id": "XYaQUHXBl6X3",
        "outputId": "d51f058e-c8a8-4c90-8fcb-4782b7cf8593"
      },
      "id": "XYaQUHXBl6X3",
      "execution_count": 5,
      "outputs": [
        {
          "output_type": "stream",
          "name": "stdout",
          "text": [
            "Apple -- PROPN -- NNP\n",
            "is -- AUX -- VBZ\n",
            "looking -- VERB -- VBG\n",
            "at -- ADP -- IN\n",
            "buying -- VERB -- VBG\n",
            "UK -- PROPN -- NNP\n",
            "- -- PUNCT -- HYPH\n",
            "based -- VERB -- VBN\n",
            "start -- NOUN -- NN\n",
            "- -- PUNCT -- HYPH\n",
            "up -- NOUN -- NN\n",
            "for -- ADP -- IN\n",
            "$ -- SYM -- $\n",
            "1 -- NUM -- CD\n",
            "billion -- NUM -- CD\n"
          ]
        }
      ]
    },
    {
      "cell_type": "code",
      "source": [
        "tokens = model(\"UpGrad is teaching Data Science courses to the working professionals\")\n",
        "for token in tokens:\n",
        "    print(token.text, \"--\", token.pos_, \"--\", token.tag_)"
      ],
      "metadata": {
        "colab": {
          "base_uri": "https://localhost:8080/"
        },
        "id": "mausCVx-Hv6A",
        "outputId": "a9c911f5-5b57-4b1a-e83a-99cc09256fed"
      },
      "id": "mausCVx-Hv6A",
      "execution_count": 6,
      "outputs": [
        {
          "output_type": "stream",
          "name": "stdout",
          "text": [
            "UpGrad -- PROPN -- NNP\n",
            "is -- AUX -- VBZ\n",
            "teaching -- VERB -- VBG\n",
            "Data -- PROPN -- NNP\n",
            "Science -- PROPN -- NNP\n",
            "courses -- NOUN -- NNS\n",
            "to -- ADP -- IN\n",
            "the -- DET -- DT\n",
            "working -- VERB -- VBG\n",
            "professionals -- NOUN -- NNS\n"
          ]
        }
      ]
    },
    {
      "cell_type": "code",
      "source": [],
      "metadata": {
        "id": "sw97fMLYII6Z"
      },
      "id": "sw97fMLYII6Z",
      "execution_count": null,
      "outputs": []
    }
  ],
  "metadata": {
    "kernelspec": {
      "display_name": "Python 3 (ipykernel)",
      "language": "python",
      "name": "python3"
    },
    "language_info": {
      "codemirror_mode": {
        "name": "ipython",
        "version": 3
      },
      "file_extension": ".py",
      "mimetype": "text/x-python",
      "name": "python",
      "nbconvert_exporter": "python",
      "pygments_lexer": "ipython3",
      "version": "3.11.4"
    },
    "colab": {
      "provenance": []
    }
  },
  "nbformat": 4,
  "nbformat_minor": 5
}