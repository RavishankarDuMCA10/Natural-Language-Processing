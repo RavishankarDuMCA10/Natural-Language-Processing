{
  "cells": [
    {
      "cell_type": "code",
      "execution_count": 1,
      "metadata": {
        "collapsed": true,
        "id": "674JnPVkSrvw"
      },
      "outputs": [],
      "source": [
        "import re\n",
        "from collections import Counter"
      ]
    },
    {
      "cell_type": "code",
      "execution_count": 2,
      "metadata": {
        "collapsed": true,
        "id": "vJ_GiVXRSrvy"
      },
      "outputs": [],
      "source": [
        "# function to tokenise words\n",
        "def words(document):\n",
        "    \"Convert text to lower case and tokenise the document\"\n",
        "    return re.findall(r'\\w+', document.lower())"
      ]
    },
    {
      "cell_type": "code",
      "execution_count": 3,
      "metadata": {
        "collapsed": true,
        "id": "zcpF0ThySrvz"
      },
      "outputs": [],
      "source": [
        "# create a frequency table of all the words of the document\n",
        "all_words = Counter(words(open('big.txt').read()))"
      ]
    },
    {
      "cell_type": "code",
      "source": [
        "print(\"Count of all words: {}\".format(len(words(open('big.txt').read()))))\n",
        "print(\"Count of all unique words: {}\".format(len(all_words)))"
      ],
      "metadata": {
        "colab": {
          "base_uri": "https://localhost:8080/"
        },
        "id": "LqcWtOu4TMbw",
        "outputId": "328c289f-7bba-46b5-a675-43a5130f2868"
      },
      "execution_count": 4,
      "outputs": [
        {
          "output_type": "stream",
          "name": "stdout",
          "text": [
            "Count of all words: 1115585\n",
            "Count of all unique words: 32198\n"
          ]
        }
      ]
    },
    {
      "cell_type": "code",
      "execution_count": 5,
      "metadata": {
        "colab": {
          "base_uri": "https://localhost:8080/"
        },
        "id": "kUFBzfAUSrvz",
        "outputId": "70a9f1c1-a980-44cc-81cb-5fb023b4c0b2"
      },
      "outputs": [
        {
          "output_type": "execute_result",
          "data": {
            "text/plain": [
              "135"
            ]
          },
          "metadata": {},
          "execution_count": 5
        }
      ],
      "source": [
        "# check frequency of a random word, say, 'chair'\n",
        "all_words['chair']"
      ]
    },
    {
      "cell_type": "code",
      "execution_count": 6,
      "metadata": {
        "colab": {
          "base_uri": "https://localhost:8080/"
        },
        "id": "i9VBWfiASrvz",
        "outputId": "7443f710-0fac-472e-8772-f7c17544b694"
      },
      "outputs": [
        {
          "output_type": "execute_result",
          "data": {
            "text/plain": [
              "[('the', 79809),\n",
              " ('of', 40024),\n",
              " ('and', 38312),\n",
              " ('to', 28765),\n",
              " ('in', 22023),\n",
              " ('a', 21124),\n",
              " ('that', 12512),\n",
              " ('he', 12401),\n",
              " ('was', 11410),\n",
              " ('it', 10681)]"
            ]
          },
          "metadata": {},
          "execution_count": 6
        }
      ],
      "source": [
        "# look at top 10 frequent words\n",
        "all_words.most_common(10)"
      ]
    },
    {
      "cell_type": "code",
      "execution_count": 7,
      "metadata": {
        "collapsed": true,
        "id": "cfm2PInmSrvz"
      },
      "outputs": [],
      "source": [
        "def edits_one(word):\n",
        "    \"Create all edits that are one edit away from `word`.\"\n",
        "    alphabets    = 'abcdefghijklmnopqrstuvwxyz'\n",
        "    splits     = [(word[:i], word[i:])                   for i in range(len(word) + 1)]\n",
        "    deletes    = [left + right[1:]                       for left, right in splits if right]\n",
        "    inserts    = [left + c + right                       for left, right in splits for c in alphabets]\n",
        "    replaces   = [left + c + right[1:]                   for left, right in splits if right for c in alphabets]\n",
        "    transposes = [left + right[1] + right[0] + right[2:] for left, right in splits if len(right)>1]\n",
        "    return set(deletes + inserts + replaces + transposes)"
      ]
    },
    {
      "cell_type": "code",
      "execution_count": 8,
      "metadata": {
        "collapsed": true,
        "id": "bIgM3ExxSrv0"
      },
      "outputs": [],
      "source": [
        "def edits_two(word):\n",
        "    \"Create all edits that are two edits away from `word`.\"\n",
        "    return (e2 for e1 in edits_one(word) for e2 in edits_one(e1))"
      ]
    },
    {
      "cell_type": "code",
      "execution_count": 9,
      "metadata": {
        "collapsed": true,
        "id": "p4O4C_RdSrv0"
      },
      "outputs": [],
      "source": [
        "def known(words):\n",
        "    \"The subset of `words` that appear in the `all_words`.\"\n",
        "    return set(word for word in words if word in all_words)"
      ]
    },
    {
      "cell_type": "code",
      "execution_count": 10,
      "metadata": {
        "collapsed": true,
        "id": "ceKeWx8LSrv0"
      },
      "outputs": [],
      "source": [
        "def possible_corrections(word):\n",
        "    \"Generate possible spelling corrections for word.\"\n",
        "    return (known([word]) or known(edits_one(word)) or known(edits_two(word)) or [word])"
      ]
    },
    {
      "cell_type": "code",
      "execution_count": 11,
      "metadata": {
        "collapsed": true,
        "id": "C4bzOkjVSrv0"
      },
      "outputs": [],
      "source": [
        "def prob(word, N=sum(all_words.values())):\n",
        "    \"Probability of `word`: Number of appearances of 'word' / total number of tokens\"\n",
        "    return all_words[word] / N"
      ]
    },
    {
      "cell_type": "code",
      "execution_count": 12,
      "metadata": {
        "colab": {
          "base_uri": "https://localhost:8080/"
        },
        "id": "mTEg-Vs6Srv1",
        "outputId": "5a6ce549-415b-41f0-8297-24dc34ca680f"
      },
      "outputs": [
        {
          "output_type": "stream",
          "name": "stdout",
          "text": [
            "336\n",
            "{'oonney', 'monnejy', 'xonney', 'mnney', 'moinney', 'monhey', 'jmonney', 'gmonney', 'mognney', 'moyney', 'moniey', 'monnfey', 'nmonney', 'monneyc', 'mogney', 'monaey', 'molney', 'monnmy', 'monnepy', 'monneyk', 'mfnney', 'monnei', 'mrnney', 'moxney', 'mvnney', 'mononey', 'meonney', 'aonney', 'monnety', 'ymonney', 'montney', 'monnehy', 'mconney', 'mtnney', 'monrey', 'monrney', 'mongey', 'monnep', 'monnuey', 'monnbey', 'monnpey', 'monnmey', 'moniney', 'monneyz', 'muonney', 'monnhy', 'monfney', 'monneh', 'monneq', 'monneys', 'monnen', 'monner', 'monneb', 'maonney', 'monneyu', 'mjnney', 'pmonney', 'mongney', 'monney', 'monneyn', 'mgonney', 'moonney', 'mobnney', 'modnney', 'moeney', 'monneyj', 'monmney', 'moxnney', 'mosnney', 'monneyw', 'lonney', 'monnoey', 'monnyey', 'mokney', 'monuney', 'monhney', 'dmonney', 'menney', 'monneuy', 'monneya', 'mhonney', 'tmonney', 'mopnney', 'moynney', 'monnevy', 'mnnney', 'smonney', 'gonney', 'monnye', 'molnney', 'monnuy', 'monneyt', 'monwney', 'umonney', 'monnery', 'monnzy', 'monnegy', 'moiney', 'monnqy', 'zmonney', 'wonney', 'monneby', 'cmonney', 'monneky', 'monnley', 'monneyx', 'ronney', 'mozney', 'mxnney', 'monnhey', 'monnwey', 'monneyi', 'monnexy', 'mnoney', 'monbney', 'monzney', 'monnxey', 'mofney', 'monnef', 'monjey', 'mnonney', 'monnej', 'mxonney', 'moneey', 'mounney', 'monnly', 'nonney', 'mojnney', 'konney', 'rmonney', 'monneyh', 'motney', 'monnjy', 'monnefy', 'mronney', 'monneym', 'mjonney', 'monvey', 'ponney', 'morney', 'qonney', 'mojney', 'monneyg', 'honney', 'moaney', 'moanney', 'monpey', 'kmonney', 'monneyy', 'monnkey', 'monneyq', 'monndey', 'monngy', 'myonney', 'monnek', 'qmonney', 'monnjey', 'mkonney', 'moqney', 'monnby', 'mohney', 'monfey', 'monzey', 'monuey', 'monsey', 'mbonney', 'movney', 'monnwy', 'monmey', 'imonney', 'monneg', 'mmonney', 'wmonney', 'monsney', 'movnney', 'monneoy', 'mdnney', 'mouney', 'monneyd', 'amonney', 'monneyf', 'monneqy', 'monyney', 'monpney', 'monxney', 'monbey', 'mornney', 'monnty', 'minney', 'moknney', 'monnely', 'monwey', 'bmonney', 'monnedy', 'msonney', 'monnvy', 'mponney', 'monnzey', 'monlney', 'mobney', 'mgnney', 'conney', 'mtonney', 'fmonney', 'omonney', 'monnoy', 'monnry', 'ionney', 'monnvey', 'mwonney', 'moqnney', 'monneny', 'mvonney', 'monnev', 'mynney', 'mpnney', 'momnney', 'monneay', 'jonney', 'mznney', 'munney', 'monnky', 'monnney', 'monnez', 'monqney', 'fonney', 'mhnney', 'yonney', 'monnem', 'monneyp', 'emonney', 'moncney', 'monnyy', 'monncey', 'mdonney', 'monncy', 'monndy', 'xmonney', 'mknney', 'msnney', 'omnney', 'vonney', 'zonney', 'moneny', 'monnaey', 'monnfy', 'mzonney', 'monnex', 'monnes', 'monjney', 'mondney', 'onney', 'monnesy', 'mowney', 'mqnney', 'vmonney', 'monvney', 'bonney', 'monnxy', 'monniy', 'mlonney', 'monaney', 'mondey', 'mcnney', 'mocnney', 'mocney', 'tonney', 'mbnney', 'mqonney', 'donney', 'mofnney', 'moncey', 'monneiy', 'manney', 'mooney', 'monniey', 'monnecy', 'mopney', 'monnec', 'monneyb', 'monyey', 'lmonney', 'moznney', 'monnel', 'mwnney', 'hmonney', 'monneu', 'money', 'monnee', 'monngey', 'monnqey', 'monnrey', 'monneye', 'motnney', 'monnsey', 'monntey', 'moenney', 'monoey', 'monnewy', 'monneyo', 'montey', 'monneey', 'uonney', 'mlnney', 'monnsy', 'monned', 'monnea', 'monnet', 'monley', 'monxey', 'monnay', 'modney', 'monny', 'mownney', 'monneo', 'monqey', 'monneyr', 'monne', 'momney', 'mmnney', 'monnpy', 'monnew', 'monnny', 'moneney', 'mosney', 'monnemy', 'sonney', 'mohnney', 'eonney', 'monnezy', 'monkney', 'monneyv', 'mionney', 'monkey', 'mfonney', 'monneyl'}\n"
          ]
        }
      ],
      "source": [
        "print(len(set(edits_one(\"monney\"))))\n",
        "print(edits_one(\"monney\"))"
      ]
    },
    {
      "cell_type": "code",
      "execution_count": 13,
      "metadata": {
        "colab": {
          "base_uri": "https://localhost:8080/"
        },
        "id": "Sk6pPGGWSrv1",
        "outputId": "fbdc085e-8948-4b34-d565-eac7bdd96d44"
      },
      "outputs": [
        {
          "output_type": "stream",
          "name": "stdout",
          "text": [
            "{'money', 'monkey'}\n"
          ]
        }
      ],
      "source": [
        "print(known(edits_one(\"monney\")))"
      ]
    },
    {
      "cell_type": "code",
      "execution_count": 14,
      "metadata": {
        "colab": {
          "base_uri": "https://localhost:8080/"
        },
        "id": "8QCgulcLSrv1",
        "outputId": "8ff57af0-785d-4237-ec6a-617d7e954481"
      },
      "outputs": [
        {
          "output_type": "stream",
          "name": "stdout",
          "text": [
            "51013\n",
            "{'money', 'monkey'}\n"
          ]
        }
      ],
      "source": [
        "# Let's look at words that are two edits away\n",
        "print(len(set(edits_two(\"monney\"))))\n",
        "print(known(edits_one(\"monney\")))"
      ]
    },
    {
      "cell_type": "code",
      "execution_count": 15,
      "metadata": {
        "colab": {
          "base_uri": "https://localhost:8080/"
        },
        "id": "f4hYyvN6Srv1",
        "outputId": "242d6ad1-f95b-4025-8505-c40dfa22ca40"
      },
      "outputs": [
        {
          "output_type": "stream",
          "name": "stdout",
          "text": [
            "{'money', 'monkey'}\n"
          ]
        }
      ],
      "source": [
        "# Let's look at possible corrections of a word\n",
        "print(possible_corrections(\"monney\"))"
      ]
    },
    {
      "cell_type": "code",
      "execution_count": 16,
      "metadata": {
        "colab": {
          "base_uri": "https://localhost:8080/"
        },
        "id": "r66B_wW4Srv1",
        "outputId": "b7e95c90-0573-4fd3-99fe-df89be3d8793"
      },
      "outputs": [
        {
          "output_type": "stream",
          "name": "stdout",
          "text": [
            "0.0002922233626303688\n",
            "5.378344097491451e-06\n"
          ]
        }
      ],
      "source": [
        "# Let's look at probability of a word\n",
        "print(prob(\"money\"))\n",
        "print(prob(\"monkey\"))"
      ]
    },
    {
      "cell_type": "code",
      "execution_count": 17,
      "metadata": {
        "id": "8t4Hr1ixSrv1"
      },
      "outputs": [],
      "source": [
        "def spell_check(word):\n",
        "    \"Print the most probable spelling correction for `word` out of all the `possible_corrections`\"\n",
        "    correct_word = max(possible_corrections(word), key=prob)\n",
        "    if correct_word != word:\n",
        "        return \"Did you mean \" + correct_word + \"?\"\n",
        "    else:\n",
        "        return \"Correct spelling.\""
      ]
    },
    {
      "cell_type": "code",
      "execution_count": 18,
      "metadata": {
        "colab": {
          "base_uri": "https://localhost:8080/"
        },
        "id": "OLGAt6ZCSrv1",
        "outputId": "7faad110-8299-4f4f-9f76-4e71964e15d1"
      },
      "outputs": [
        {
          "output_type": "stream",
          "name": "stdout",
          "text": [
            "Did you mean money?\n"
          ]
        }
      ],
      "source": [
        "# test spell check\n",
        "print(spell_check(\"monney\"))"
      ]
    },
    {
      "cell_type": "markdown",
      "source": [
        "**Spell Corrector**\n",
        "\n",
        "Go ahead and pass the word ‘emfasize’ to the function edits_one(). What is the size of the list returned by this function?"
      ],
      "metadata": {
        "id": "dUOVgy5VebrY"
      }
    },
    {
      "cell_type": "code",
      "source": [
        "print(len(set(edits_one(\"emfasize\"))))"
      ],
      "metadata": {
        "colab": {
          "base_uri": "https://localhost:8080/"
        },
        "id": "ot9LhQyvWyMQ",
        "outputId": "2d86bd7e-8629-4b3a-a9b8-521b5a41dc7e"
      },
      "execution_count": 19,
      "outputs": [
        {
          "output_type": "stream",
          "name": "stdout",
          "text": [
            "442\n"
          ]
        }
      ]
    },
    {
      "cell_type": "markdown",
      "source": [
        "**Spell Corrector**\n",
        "\n",
        "Go ahead and pass the word ‘emfasize’ to the function edits_two(). What is the total number of unique words returned by this function?"
      ],
      "metadata": {
        "id": "Ps51AjFjefam"
      }
    },
    {
      "cell_type": "code",
      "source": [
        "print(len(set(edits_two(\"emfasize\"))))"
      ],
      "metadata": {
        "colab": {
          "base_uri": "https://localhost:8080/"
        },
        "id": "AWflGCVYXbWo",
        "outputId": "320eeb4e-6869-49e1-8baa-27fc83f908de"
      },
      "execution_count": 20,
      "outputs": [
        {
          "output_type": "stream",
          "name": "stdout",
          "text": [
            "90902\n"
          ]
        }
      ]
    },
    {
      "cell_type": "markdown",
      "source": [
        "**Spell Corrector**\n",
        "\n",
        "Go ahead and pass the word ‘emfasize’ to the function possible_corrections(). How many words does it return?"
      ],
      "metadata": {
        "id": "V6EcfbyhenA8"
      }
    },
    {
      "cell_type": "code",
      "source": [
        "print(len(set(possible_corrections(\"emfasize\"))))"
      ],
      "metadata": {
        "colab": {
          "base_uri": "https://localhost:8080/"
        },
        "id": "-cRIC2QkXh98",
        "outputId": "fbb8e863-98c2-4c78-90f6-b776e25f1bad"
      },
      "execution_count": 21,
      "outputs": [
        {
          "output_type": "stream",
          "name": "stdout",
          "text": [
            "1\n"
          ]
        }
      ]
    },
    {
      "cell_type": "code",
      "source": [
        "# Using Spell Corrector\n",
        "from spell_corrector import rectify\n",
        "correct = rectify(\"laern\")\n",
        "print(correct)"
      ],
      "metadata": {
        "colab": {
          "base_uri": "https://localhost:8080/"
        },
        "id": "DxAU2ONgYWqo",
        "outputId": "089c4989-767b-412f-aae3-51b423cfd0ea"
      },
      "execution_count": 22,
      "outputs": [
        {
          "output_type": "stream",
          "name": "stdout",
          "text": [
            "learn\n"
          ]
        }
      ]
    },
    {
      "cell_type": "code",
      "source": [],
      "metadata": {
        "id": "tGs5QeyheUaa"
      },
      "execution_count": null,
      "outputs": []
    }
  ],
  "metadata": {
    "kernelspec": {
      "display_name": "Python 3",
      "language": "python",
      "name": "python3"
    },
    "language_info": {
      "codemirror_mode": {
        "name": "ipython",
        "version": 3
      },
      "file_extension": ".py",
      "mimetype": "text/x-python",
      "name": "python",
      "nbconvert_exporter": "python",
      "pygments_lexer": "ipython3",
      "version": "3.6.4"
    },
    "colab": {
      "provenance": []
    }
  },
  "nbformat": 4,
  "nbformat_minor": 0
}