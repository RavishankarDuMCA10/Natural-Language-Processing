{
  "cells": [
    {
      "cell_type": "markdown",
      "metadata": {
        "id": "PSx4a16_G_8A"
      },
      "source": [
        "## Levenshtein Edit Distance\n",
        "The levenshtein distance calculates the number of steps (insertions, deletions or substitutions) required to go from source string to target string."
      ]
    },
    {
      "cell_type": "code",
      "execution_count": 1,
      "metadata": {
        "collapsed": true,
        "id": "Z6EP5SIDG_8D"
      },
      "outputs": [],
      "source": [
        "def lev_distance(source='', target=''):\n",
        "    \"\"\"Make a Levenshtein Distances Matrix\"\"\"\n",
        "\n",
        "    # get length of both strings\n",
        "    n1, n2 = len(source), len(target)\n",
        "\n",
        "    # create matrix using length of both strings - source string sits on columns, target string sits on rows\n",
        "    matrix = [ [ 0 for i1 in range(n1 + 1) ] for i2 in range(n2 + 1) ]\n",
        "\n",
        "    # fill the first row - (0 to n1-1)\n",
        "    for i1 in range(1, n1 + 1):\n",
        "        matrix[0][i1] = i1\n",
        "\n",
        "    # fill the first column - (0 to n2-1)\n",
        "    for i2 in range(1, n2 + 1):\n",
        "        matrix[i2][0] = i2\n",
        "\n",
        "    # fill the matrix\n",
        "    for i2 in range(1, n2 + 1):\n",
        "        for i1 in range(1, n1 + 1):\n",
        "\n",
        "            # check whether letters being compared are same\n",
        "            if (source[i1-1] == target[i2-1]):\n",
        "                value = matrix[i2-1][i1-1]               # top-left cell value\n",
        "            else:\n",
        "                value = min(matrix[i2-1][i1]   + 1,      # left cell value     + 1\n",
        "                            matrix[i2][i1-1]   + 1,      # top cell  value     + 1\n",
        "                            matrix[i2-1][i1-1] + 1)      # top-left cell value + 1\n",
        "\n",
        "            matrix[i2][i1] = value\n",
        "\n",
        "    # return bottom-right cell value\n",
        "    return matrix[-1][-1]"
      ]
    },
    {
      "cell_type": "code",
      "execution_count": 2,
      "metadata": {
        "colab": {
          "base_uri": "https://localhost:8080/"
        },
        "id": "xkq0cLdWG_8E",
        "outputId": "d78e6e79-bc31-4984-85e3-a073987c3708"
      },
      "outputs": [
        {
          "output_type": "execute_result",
          "data": {
            "text/plain": [
              "2"
            ]
          },
          "metadata": {},
          "execution_count": 2
        }
      ],
      "source": [
        "lev_distance('cat', 'cta')"
      ]
    },
    {
      "cell_type": "markdown",
      "metadata": {
        "id": "cGWn5trbG_8F"
      },
      "source": [
        "## Levenshtein distance in nltk library"
      ]
    },
    {
      "cell_type": "code",
      "execution_count": 3,
      "metadata": {
        "collapsed": true,
        "id": "lBEp8MsCG_8F"
      },
      "outputs": [],
      "source": [
        "# import library\n",
        "from nltk.metrics.distance import edit_distance"
      ]
    },
    {
      "cell_type": "code",
      "execution_count": 4,
      "metadata": {
        "colab": {
          "base_uri": "https://localhost:8080/"
        },
        "id": "ZPwuLkkoG_8F",
        "outputId": "ea15ccd1-54c0-484b-8219-681597320839"
      },
      "outputs": [
        {
          "output_type": "execute_result",
          "data": {
            "text/plain": [
              "2"
            ]
          },
          "metadata": {},
          "execution_count": 4
        }
      ],
      "source": [
        "edit_distance(\"apple\", \"appel\")"
      ]
    },
    {
      "cell_type": "markdown",
      "metadata": {
        "id": "ab8ZcvuvG_8G"
      },
      "source": [
        "## Damerau-Levenshtein Distance\n",
        "The Damerau-Levenshtein distance allows transpositions (swap of two letters which are adjacent to each other) as well."
      ]
    },
    {
      "cell_type": "code",
      "execution_count": 5,
      "metadata": {
        "colab": {
          "base_uri": "https://localhost:8080/"
        },
        "id": "PyQkzvb0G_8G",
        "outputId": "12c4fa8a-eca9-4439-ebc9-a259178ba3d4"
      },
      "outputs": [
        {
          "output_type": "execute_result",
          "data": {
            "text/plain": [
              "2"
            ]
          },
          "metadata": {},
          "execution_count": 5
        }
      ],
      "source": [
        "edit_distance(\"apple\", \"appel\", transpositions=False, )"
      ]
    },
    {
      "cell_type": "code",
      "execution_count": null,
      "metadata": {
        "collapsed": true,
        "id": "3RT34XswG_8H"
      },
      "outputs": [],
      "source": []
    }
  ],
  "metadata": {
    "kernelspec": {
      "display_name": "Python 3",
      "language": "python",
      "name": "python3"
    },
    "language_info": {
      "codemirror_mode": {
        "name": "ipython",
        "version": 3
      },
      "file_extension": ".py",
      "mimetype": "text/x-python",
      "name": "python",
      "nbconvert_exporter": "python",
      "pygments_lexer": "ipython3",
      "version": "3.6.5"
    },
    "colab": {
      "provenance": []
    }
  },
  "nbformat": 4,
  "nbformat_minor": 0
}