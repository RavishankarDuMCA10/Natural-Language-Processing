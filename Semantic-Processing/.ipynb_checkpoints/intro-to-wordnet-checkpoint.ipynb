{
 "cells": [
  {
   "cell_type": "markdown",
   "id": "57a54d1f",
   "metadata": {},
   "source": [
    "**------------------------------------------------------------------------------------------**\n",
    "\n",
    " **Filename : intro-to-wordnet.ipynb**\n",
    " \n",
    " **Author   : Ravi Shankar Kushwaha**\n",
    " \n",
    " **Purpose  : Understanding Wordnet functionalities**\n",
    " \n",
    " **Libraries: nltk**\n",
    "\n",
    "**------------------------------------------------------------------------------------------** "
   ]
  },
  {
   "cell_type": "markdown",
   "id": "d5e61b57",
   "metadata": {},
   "source": [
    "## [WordNet®](https://wordnet.princeton.edu/) Tutorial\n",
    "\n",
    "### Navigating Wornet Relationships"
   ]
  },
  {
   "cell_type": "code",
   "execution_count": null,
   "id": "a1a1f5c6",
   "metadata": {},
   "outputs": [],
   "source": [
    "!pip"
   ]
  }
 ],
 "metadata": {
  "kernelspec": {
   "display_name": "Python 3 (ipykernel)",
   "language": "python",
   "name": "python3"
  },
  "language_info": {
   "codemirror_mode": {
    "name": "ipython",
    "version": 3
   },
   "file_extension": ".py",
   "mimetype": "text/x-python",
   "name": "python",
   "nbconvert_exporter": "python",
   "pygments_lexer": "ipython3",
   "version": "3.11.4"
  }
 },
 "nbformat": 4,
 "nbformat_minor": 5
}
